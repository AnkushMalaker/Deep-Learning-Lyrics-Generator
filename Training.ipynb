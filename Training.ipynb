{
 "cells": [
  {
   "cell_type": "code",
   "execution_count": null,
   "metadata": {},
   "outputs": [],
   "source": [
    "import numpy as np\n",
    "from gensim.models import KeyedVectors\n",
    "from gensim.models import Word2Vec\n",
    "import pandas as pd\n",
    "import nltk"
   ]
  },
  {
   "cell_type": "code",
   "execution_count": null,
   "metadata": {
    "collapsed": true
   },
   "outputs": [],
   "source": [
    "fname = 'wordVec.bin'\n",
    "word_vectors = KeyedVectors.load(fname)"
   ]
  },
  {
   "cell_type": "code",
   "execution_count": null,
   "metadata": {
    "collapsed": true
   },
   "outputs": [],
   "source": [
    "data = pd.read_json('corpus.json')"
   ]
  },
  {
   "cell_type": "code",
   "execution_count": null,
   "metadata": {
    "collapsed": true
   },
   "outputs": [],
   "source": [
    "data = data['Quote'].unique()"
   ]
  },
  {
   "cell_type": "code",
   "execution_count": null,
   "metadata": {
    "collapsed": true
   },
   "outputs": [],
   "source": [
    "data = pd.DataFrame({'Quote':data})"
   ]
  },
  {
   "cell_type": "code",
   "execution_count": null,
   "metadata": {},
   "outputs": [],
   "source": [
    "data.head()"
   ]
  },
  {
   "cell_type": "code",
   "execution_count": null,
   "metadata": {},
   "outputs": [],
   "source": [
    "X = []\n",
    "Y = []\n",
    "for index,row in data.iterrows():\n",
    "    \n",
    "    cur_row = nltk.word_tokenize(row['Quote'])\n",
    "    \n",
    "    if len(cur_row) > 8:\n",
    "        remove_full_stop = cur_row[:-1]\n",
    "        x = remove_full_stop[:-1]\n",
    "        x.insert(0,'STARTPAD')\n",
    "        X.append(x)\n",
    "        Y.append(remove_full_stop)\n",
    "    \n",
    "        if index%5000 == 0 :\n",
    "            print(\"--Processed : \" + str(index) + \" sentences--\")"
   ]
  },
  {
   "cell_type": "code",
   "execution_count": null,
   "metadata": {
    "collapsed": true
   },
   "outputs": [],
   "source": [
    "#Convert X and Y to their word embeddings \n",
    "\n",
    "x_data = []\n",
    "y_data = []\n",
    "\n",
    "for i in range(len(X)):\n",
    "    temp_x = []\n",
    "    temp_y = []\n",
    "    \n",
    "    for j in range(len(X[i])):\n",
    "        \n",
    "        temp_x.append(word_vectors[X[i][j]])\n",
    "        temp_y.append(word_vectors[Y[i][j]])\n",
    "    x_data.append(np.array(temp_x))\n",
    "    y_data.append(np.array(temp_y))\n",
    "    \n",
    "    if i%5000 == 0 :\n",
    "            print(\"--Processed : \" + str(i) + \" sentences--\")"
   ]
  },
  {
   "cell_type": "code",
   "execution_count": null,
   "metadata": {
    "collapsed": true
   },
   "outputs": [],
   "source": [
    "x_data = np.array(x_data)\n",
    "y_data = np.array(y_data)"
   ]
  },
  {
   "cell_type": "code",
   "execution_count": null,
   "metadata": {
    "collapsed": true
   },
   "outputs": [],
   "source": [
    "#Padding\n",
    "\n",
    "from keras.preprocessing.sequence import pad_sequences\n",
    "\n",
    "max_len = 25\n",
    "\n",
    "x_data = pad_sequences(maxlen=max_len, sequences=x_data, padding=\"post\", value=word_vectors['ENDPAD'],truncating='post')\n",
    "y_data = pad_sequences(maxlen=max_len, sequences=y_data, padding=\"post\", value=word_vectors['ENDPAD'],truncating='post')"
   ]
  },
  {
   "cell_type": "code",
   "execution_count": null,
   "metadata": {
    "collapsed": true
   },
   "outputs": [],
   "source": [
    "from keras.utils import to_categorical\n",
    "\n",
    "from sklearn.model_selection import train_test_split\n",
    "\n",
    "x_train, x_test, y_train, y_test = train_test_split(x_data, y_data, test_size=0.1)"
   ]
  },
  {
   "cell_type": "code",
   "execution_count": null,
   "metadata": {
    "collapsed": true
   },
   "outputs": [],
   "source": [
    "print(x_train.shape,y_train.shape)\n",
    "print(x_test.shape,y_test.shape)"
   ]
  },
  {
   "cell_type": "code",
   "execution_count": null,
   "metadata": {
    "collapsed": true
   },
   "outputs": [],
   "source": [
    "#Building the model\n",
    "\n",
    "from keras.models import Sequential\n",
    "from keras.layers import Embedding, LSTM, Flatten,Dense, TimeDistributed, Dropout,Bidirectional\n",
    "from keras.layers.advanced_activations import LeakyReLU, PReLU, ELU\n",
    "\n",
    "model = Sequential()\n",
    "model.add(LSTM(units=100,return_sequences=True,recurrent_dropout=0.1,input_shape=(max_len,50)))\n",
    "model.add(LSTM(units=100,return_sequences=True))\n",
    "model.add(TimeDistributed(Dense(150,activation='tanh')))\n",
    "model.add(Dropout(0.2))\n",
    "model.add(TimeDistributed(Dense(50,activation='linear')))"
   ]
  },
  {
   "cell_type": "code",
   "execution_count": null,
   "metadata": {
    "collapsed": true
   },
   "outputs": [],
   "source": [
    "model.compile(optimizer=\"adam\", loss=\"mean_squared_error\", metrics=[\"accuracy\"])"
   ]
  },
  {
   "cell_type": "code",
   "execution_count": null,
   "metadata": {
    "collapsed": true
   },
   "outputs": [],
   "source": [
    "model.summary()"
   ]
  },
  {
   "cell_type": "code",
   "execution_count": null,
   "metadata": {
    "collapsed": true
   },
   "outputs": [],
   "source": [
    "model.fit(x_train, y_train, batch_size=5, epochs=5, validation_split=0.1, verbose=1)"
   ]
  },
  {
   "cell_type": "code",
   "execution_count": null,
   "metadata": {
    "collapsed": true
   },
   "outputs": [],
   "source": [
    "model_json = model.to_json()\n",
    "with open(\"Model/model.json\", \"w\") as json_file:\n",
    "    json_file.write(model_json)\n",
    "# serialize weights to HDF5\n",
    "model.save_weights(\"Model/model.h5\")\n",
    "print(\"Saved model to disk\")"
   ]
  },
  {
   "cell_type": "code",
   "execution_count": null,
   "metadata": {
    "collapsed": true
   },
   "outputs": [],
   "source": [
    "score,acc = model.evaluate(x_test,y_test, verbose = 2, batch_size = 15)\n",
    "print(\"score: %.2f\" % (score))\n",
    "print(\"acc: %.2f\" % (acc))"
   ]
  }
 ],
 "metadata": {
  "kernelspec": {
   "display_name": "Python 3",
   "language": "python",
   "name": "python3"
  },
  "language_info": {
   "codemirror_mode": {
    "name": "ipython",
    "version": 3
   },
   "file_extension": ".py",
   "mimetype": "text/x-python",
   "name": "python",
   "nbconvert_exporter": "python",
   "pygments_lexer": "ipython3",
   "version": "3.5.4"
  }
 },
 "nbformat": 4,
 "nbformat_minor": 2
}
