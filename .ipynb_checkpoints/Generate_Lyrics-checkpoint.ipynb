{
 "cells": [
  {
   "cell_type": "code",
   "execution_count": 4,
   "metadata": {
    "collapsed": true
   },
   "outputs": [],
   "source": [
    "import numpy as np\n",
    "from gensim.models import KeyedVectors\n",
    "from gensim.models import Word2Vec\n",
    "from keras.models import model_from_json"
   ]
  },
  {
   "cell_type": "code",
   "execution_count": 5,
   "metadata": {},
   "outputs": [
    {
     "name": "stdout",
     "output_type": "stream",
     "text": [
      "Loaded model from disk\n"
     ]
    }
   ],
   "source": [
    "json_file = open('Model/model.json', 'r')\n",
    "loaded_model_json = json_file.read()\n",
    "json_file.close()\n",
    "model = model_from_json(loaded_model_json)\n",
    "# load weights into new model\n",
    "model.load_weights(\"Model/model.h5\")\n",
    "print(\"Loaded model from disk\")"
   ]
  },
  {
   "cell_type": "code",
   "execution_count": 6,
   "metadata": {
    "collapsed": true
   },
   "outputs": [],
   "source": [
    "fname = 'wordVec.bin'\n",
    "word_vectors = KeyedVectors.load(fname)"
   ]
  },
  {
   "cell_type": "code",
   "execution_count": 7,
   "metadata": {
    "collapsed": true
   },
   "outputs": [],
   "source": [
    "vocab = list(word_vectors.vocab.keys())"
   ]
  },
  {
   "cell_type": "code",
   "execution_count": 8,
   "metadata": {
    "collapsed": true
   },
   "outputs": [],
   "source": [
    "word_map = {}\n",
    "word_map_rev = {}\n",
    "for i,v in enumerate(vocab):\n",
    "    \n",
    "    word_map[v] = i\n",
    "    word_map_rev[i] = v"
   ]
  },
  {
   "cell_type": "code",
   "execution_count": null,
   "metadata": {
    "collapsed": true
   },
   "outputs": [],
   "source": [
    "# def get_word(vector,i,prevVec):\n",
    "    \n",
    "#     if i > 6 and np.array_equal(vector,stopVector):\n",
    "#         return_word = word_vectors[word_vectors.similar_by_vector(prevVec,topn=3)[np.random.randint(0,3)][0]]\n",
    "#         while np.array_equal(return_word,stopVector):\n",
    "#             return_word = word_vectors[word_vectors.similar_by_vector(prevVec,topn=3)[np.random.randint(0,3)][0]]\n",
    "#         return return_word\n",
    "#     else :\n",
    "#         return vector"
   ]
  },
  {
   "cell_type": "code",
   "execution_count": 9,
   "metadata": {
    "collapsed": true
   },
   "outputs": [],
   "source": [
    "def print_sentence(mat):\n",
    "    s = ''\n",
    "    for i in mat:\n",
    "        ind = np.argmax(i)\n",
    "        s = s + ' ' + word_map_rev[ind]\n",
    "    print(s)"
   ]
  },
  {
   "cell_type": "code",
   "execution_count": 34,
   "metadata": {
    "collapsed": true
   },
   "outputs": [],
   "source": [
    "def to_int(mat):\n",
    "    \n",
    "    ints = []\n",
    "    \n",
    "    for i in mat:\n",
    "        ints.append(np.argmax(i))\n",
    "    return ints"
   ]
  },
  {
   "cell_type": "code",
   "execution_count": 43,
   "metadata": {
    "collapsed": true
   },
   "outputs": [],
   "source": [
    "def generate():\n",
    "    \n",
    "    words = np.random.randint(0,len(vocab),size=(1,11))\n",
    "    words[0][0] = np.random.randint(0,len(vocab)) #Random seed word\n",
    "    output = model.predict(words)\n",
    "    print_sentence(output[0])"
   ]
  },
  {
   "cell_type": "code",
   "execution_count": 44,
   "metadata": {},
   "outputs": [
    {
     "name": "stdout",
     "output_type": "stream",
     "text": [
      " remorse windows Sunday gladly Matter twirl Cause policy bottle lying Tap\n"
     ]
    }
   ],
   "source": [
    "generate()"
   ]
  }
 ],
 "metadata": {
  "kernelspec": {
   "display_name": "Python 3",
   "language": "python",
   "name": "python3"
  },
  "language_info": {
   "codemirror_mode": {
    "name": "ipython",
    "version": 3
   },
   "file_extension": ".py",
   "mimetype": "text/x-python",
   "name": "python",
   "nbconvert_exporter": "python",
   "pygments_lexer": "ipython3",
   "version": "3.6.1"
  }
 },
 "nbformat": 4,
 "nbformat_minor": 2
}
