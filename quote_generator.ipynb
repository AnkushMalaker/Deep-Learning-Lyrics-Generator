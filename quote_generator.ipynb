{
 "cells": [
  {
   "cell_type": "markdown",
   "metadata": {},
   "source": [
    "# Using Deep Learning (LSTMs) to produce new quotes"
   ]
  },
  {
   "cell_type": "markdown",
   "metadata": {},
   "source": [
    "### 1. Preparing the data"
   ]
  },
  {
   "cell_type": "code",
   "execution_count": 1,
   "metadata": {
    "collapsed": true
   },
   "outputs": [],
   "source": [
    "import pandas as pd\n",
    "import numpy as np\n",
    "import nltk"
   ]
  },
  {
   "cell_type": "code",
   "execution_count": 2,
   "metadata": {
    "collapsed": true
   },
   "outputs": [],
   "source": [
    "data = pd.read_json('Data/data.json')"
   ]
  },
  {
   "cell_type": "code",
   "execution_count": 3,
   "metadata": {
    "collapsed": true
   },
   "outputs": [],
   "source": [
    "data = data['Quote'].unique()"
   ]
  },
  {
   "cell_type": "code",
   "execution_count": 4,
   "metadata": {
    "collapsed": true
   },
   "outputs": [],
   "source": [
    "df = pd.DataFrame({'Quote':data})"
   ]
  },
  {
   "cell_type": "code",
   "execution_count": 5,
   "metadata": {},
   "outputs": [
    {
     "name": "stdout",
     "output_type": "stream",
     "text": [
      "                                               Quote\n",
      "0  Don't cry because it's over, smile because it ...\n",
      "1  I'm selfish, impatient and a little insecure. ...\n",
      "2       Be yourself; everyone else is already taken.\n",
      "3  Two things are infinite: the universe and huma...\n",
      "4  Be who you are and say what you feel, because ...\n"
     ]
    }
   ],
   "source": [
    "print(df.head())"
   ]
  },
  {
   "cell_type": "code",
   "execution_count": 6,
   "metadata": {
    "collapsed": true
   },
   "outputs": [],
   "source": [
    "vocab = pd.read_csv('Data/vocab_list.txt',header=None,sep=\" \")\n",
    "vocab = np.append(vocab,\".\")\n",
    "vocab = np.append(vocab,\",\")\n",
    "vocab = np.append(vocab,\"\\\"\")\n",
    "vocab = np.append(vocab,\";\")\n",
    "vocab = np.append(vocab,\"?\")\n",
    "vocab = np.append(vocab,\"\\'\")\n",
    "vocab = np.append(vocab,\"-\")\n",
    "vocab = np.append(vocab,\":\")\n",
    "vocab = np.append(vocab,\"UNKNOWN\")\n",
    "vocab = np.append(vocab,\"ENDPAD\")"
   ]
  },
  {
   "cell_type": "code",
   "execution_count": 7,
   "metadata": {},
   "outputs": [
    {
     "name": "stdout",
     "output_type": "stream",
     "text": [
      "(3010,)\n"
     ]
    }
   ],
   "source": [
    "print(vocab.shape)"
   ]
  },
  {
   "cell_type": "code",
   "execution_count": 8,
   "metadata": {
    "collapsed": true
   },
   "outputs": [],
   "source": [
    "n_words = vocab.shape[0]"
   ]
  },
  {
   "cell_type": "code",
   "execution_count": 9,
   "metadata": {},
   "outputs": [],
   "source": [
    "word_map = {}\n",
    "word_map_rev = {}\n",
    "for index,value in enumerate(vocab):\n",
    "    word_map[value] = index\n",
    "    word_map_rev[index] = value"
   ]
  },
  {
   "cell_type": "code",
   "execution_count": null,
   "metadata": {},
   "outputs": [
    {
     "name": "stdout",
     "output_type": "stream",
     "text": [
      "1202\n",
      "great\n"
     ]
    }
   ],
   "source": [
    "print(word_map[\"great\"])\n",
    "print(word_map_rev[1202])"
   ]
  },
  {
   "cell_type": "code",
   "execution_count": null,
   "metadata": {},
   "outputs": [],
   "source": [
    "#Format x_data and y_data\n",
    "x_data = np.array([])\n",
    "y_data = np.array([])\n",
    "\n",
    "def get_matrix_ids(s):\n",
    "    id_matrix = []\n",
    "    w = nltk.word_tokenize(s)\n",
    "    w = [i.lower() for i in w]\n",
    "    \n",
    "    for i in w:\n",
    "        if i in vocab:\n",
    "            id_matrix.append(word_map[i])\n",
    "        else :\n",
    "            id_matrix.append(word_map[\"UNKNOWN\"]) #Unknown token\n",
    "    return id_matrix\n",
    "\n",
    "for index,row in df.iterrows():\n",
    "    \n",
    "    cur_row = get_matrix_ids(row['Quote'])\n",
    "    i = 2\n",
    "    if len(cur_row) > 10:\n",
    "        \n",
    "        while i!=len(cur_row)-2:\n",
    "            x_data = np.append(x_data,np.array(cur_row[i-2:i+1]))\n",
    "            y = np.zeros(n_words)\n",
    "            next_w = cur_row[i+1]\n",
    "            y[next_w] = 1\n",
    "            y_data = np.append(y_data,y)\n",
    "            i += 1"
   ]
  },
  {
   "cell_type": "markdown",
   "metadata": {},
   "source": [
    "We have a dataset where each x training point is a sequence of 3 words and its corresponding y is the 4th word of the sequence.\n",
    "X data is in the form of a sequence matrix (of 3 words), but its corresponding output (the 4th word of the sequence) is a one-hot encoded word.\n",
    "Let's check it out."
   ]
  },
  {
   "cell_type": "code",
   "execution_count": null,
   "metadata": {},
   "outputs": [],
   "source": [
    "print(x_data[69])\n",
    "print(y_data[69])"
   ]
  },
  {
   "cell_type": "code",
   "execution_count": null,
   "metadata": {},
   "outputs": [],
   "source": [
    "for i in x_data[69]:\n",
    "    print(word_map_rev[i])\n",
    "print(word_map_rev[np.argmax(y_data[69])])"
   ]
  },
  {
   "cell_type": "code",
   "execution_count": null,
   "metadata": {},
   "outputs": [],
   "source": [
    "print(len(x_data))\n",
    "print(len(y_data))"
   ]
  },
  {
   "cell_type": "markdown",
   "metadata": {},
   "source": [
    "We have 942,728 training examples."
   ]
  },
  {
   "cell_type": "markdown",
   "metadata": {},
   "source": [
    "### 2. Building the model"
   ]
  },
  {
   "cell_type": "code",
   "execution_count": null,
   "metadata": {},
   "outputs": [],
   "source": [
    "from keras.models import Sequential\n",
    "from keras.layers import Dense, Embedding, LSTM\n",
    "\n",
    "model = Sequential()\n",
    "model.add(Embedding(input_dim=n_words, output_dim=65, input_length=3))\n",
    "model.add(LSTM(units=100, recurrent_dropout=0.1))\n",
    "model.add(Dense(n_words,activation='softmax'))\n",
    "\n",
    "model.compile(optimizer=\"adam\", loss=\"categorical_crossentropy\", metrics=[\"accuracy\"])"
   ]
  },
  {
   "cell_type": "code",
   "execution_count": null,
   "metadata": {},
   "outputs": [],
   "source": [
    "print(model.summary())"
   ]
  },
  {
   "cell_type": "markdown",
   "metadata": {},
   "source": [
    "### 3. Training the model"
   ]
  },
  {
   "cell_type": "code",
   "execution_count": null,
   "metadata": {},
   "outputs": [],
   "source": [
    "from sklearn.model_selection import train_test_split\n",
    "x_train, x_test, y_train, y_test = train_test_split(x_data, y_data, test_size=0.2)\n",
    "\n",
    "x_train = np.array(x_train)\n",
    "x_test = np.array(x_test)\n",
    "y_test = np.array(y_test)"
   ]
  },
  {
   "cell_type": "code",
   "execution_count": null,
   "metadata": {},
   "outputs": [],
   "source": [
    "a = np.array([])"
   ]
  },
  {
   "cell_type": "code",
   "execution_count": null,
   "metadata": {},
   "outputs": [],
   "source": [
    "a = np.append(a,3)\n",
    "a = np.append(a,4)\n",
    "a = np.append(a,33)"
   ]
  },
  {
   "cell_type": "code",
   "execution_count": null,
   "metadata": {},
   "outputs": [],
   "source": [
    "print(a)"
   ]
  },
  {
   "cell_type": "code",
   "execution_count": null,
   "metadata": {
    "collapsed": true
   },
   "outputs": [],
   "source": []
  }
 ],
 "metadata": {
  "kernelspec": {
   "display_name": "Python 3",
   "language": "python",
   "name": "python3"
  },
  "language_info": {
   "codemirror_mode": {
    "name": "ipython",
    "version": 3
   },
   "file_extension": ".py",
   "mimetype": "text/x-python",
   "name": "python",
   "nbconvert_exporter": "python",
   "pygments_lexer": "ipython3",
   "version": "3.5.4"
  }
 },
 "nbformat": 4,
 "nbformat_minor": 2
}
