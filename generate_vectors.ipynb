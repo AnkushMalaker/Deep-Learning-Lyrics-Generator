{
 "cells": [
  {
   "cell_type": "code",
   "execution_count": 1,
   "metadata": {},
   "outputs": [
    {
     "name": "stderr",
     "output_type": "stream",
     "text": [
      "C:\\Users\\mayan\\Anaconda3\\envs\\tensorflow\\lib\\site-packages\\gensim\\utils.py:1197: UserWarning: detected Windows; aliasing chunkize to chunkize_serial\n",
      "  warnings.warn(\"detected Windows; aliasing chunkize to chunkize_serial\")\n"
     ]
    }
   ],
   "source": [
    "import pandas as pd\n",
    "import numpy as np\n",
    "import nltk\n",
    "from gensim.models import Word2Vec"
   ]
  },
  {
   "cell_type": "code",
   "execution_count": 2,
   "metadata": {
    "collapsed": true
   },
   "outputs": [],
   "source": [
    "data = pd.read_json('corpus.json')"
   ]
  },
  {
   "cell_type": "code",
   "execution_count": 3,
   "metadata": {},
   "outputs": [
    {
     "data": {
      "text/html": [
       "<div>\n",
       "<style scoped>\n",
       "    .dataframe tbody tr th:only-of-type {\n",
       "        vertical-align: middle;\n",
       "    }\n",
       "\n",
       "    .dataframe tbody tr th {\n",
       "        vertical-align: top;\n",
       "    }\n",
       "\n",
       "    .dataframe thead th {\n",
       "        text-align: right;\n",
       "    }\n",
       "</style>\n",
       "<table border=\"1\" class=\"dataframe\">\n",
       "  <thead>\n",
       "    <tr style=\"text-align: right;\">\n",
       "      <th></th>\n",
       "      <th>Author</th>\n",
       "      <th>Category</th>\n",
       "      <th>Popularity</th>\n",
       "      <th>Quote</th>\n",
       "      <th>Tags</th>\n",
       "    </tr>\n",
       "  </thead>\n",
       "  <tbody>\n",
       "    <tr>\n",
       "      <th>0</th>\n",
       "      <td>Dr. Seuss</td>\n",
       "      <td>life</td>\n",
       "      <td>0.155666</td>\n",
       "      <td>Don't cry because it's over, smile because it ...</td>\n",
       "      <td>[attributed-no-source, cry, crying, experience...</td>\n",
       "    </tr>\n",
       "    <tr>\n",
       "      <th>1</th>\n",
       "      <td>Dr. Seuss</td>\n",
       "      <td>happiness</td>\n",
       "      <td>0.155666</td>\n",
       "      <td>Don't cry because it's over, smile because it ...</td>\n",
       "      <td>[attributed-no-source, cry, crying, experience...</td>\n",
       "    </tr>\n",
       "    <tr>\n",
       "      <th>2</th>\n",
       "      <td>Marilyn Monroe</td>\n",
       "      <td>love</td>\n",
       "      <td>0.129122</td>\n",
       "      <td>I'm selfish, impatient and a little insecure. ...</td>\n",
       "      <td>[attributed-no-source, best, life, love, mista...</td>\n",
       "    </tr>\n",
       "    <tr>\n",
       "      <th>3</th>\n",
       "      <td>Marilyn Monroe</td>\n",
       "      <td>life</td>\n",
       "      <td>0.129122</td>\n",
       "      <td>I'm selfish, impatient and a little insecure. ...</td>\n",
       "      <td>[attributed-no-source, best, life, love, mista...</td>\n",
       "    </tr>\n",
       "    <tr>\n",
       "      <th>4</th>\n",
       "      <td>Marilyn Monroe</td>\n",
       "      <td>truth</td>\n",
       "      <td>0.129122</td>\n",
       "      <td>I'm selfish, impatient and a little insecure. ...</td>\n",
       "      <td>[attributed-no-source, best, life, love, mista...</td>\n",
       "    </tr>\n",
       "  </tbody>\n",
       "</table>\n",
       "</div>"
      ],
      "text/plain": [
       "           Author   Category  Popularity  \\\n",
       "0       Dr. Seuss       life    0.155666   \n",
       "1       Dr. Seuss  happiness    0.155666   \n",
       "2  Marilyn Monroe       love    0.129122   \n",
       "3  Marilyn Monroe       life    0.129122   \n",
       "4  Marilyn Monroe      truth    0.129122   \n",
       "\n",
       "                                               Quote  \\\n",
       "0  Don't cry because it's over, smile because it ...   \n",
       "1  Don't cry because it's over, smile because it ...   \n",
       "2  I'm selfish, impatient and a little insecure. ...   \n",
       "3  I'm selfish, impatient and a little insecure. ...   \n",
       "4  I'm selfish, impatient and a little insecure. ...   \n",
       "\n",
       "                                                Tags  \n",
       "0  [attributed-no-source, cry, crying, experience...  \n",
       "1  [attributed-no-source, cry, crying, experience...  \n",
       "2  [attributed-no-source, best, life, love, mista...  \n",
       "3  [attributed-no-source, best, life, love, mista...  \n",
       "4  [attributed-no-source, best, life, love, mista...  "
      ]
     },
     "execution_count": 3,
     "metadata": {},
     "output_type": "execute_result"
    }
   ],
   "source": [
    "data.head()"
   ]
  },
  {
   "cell_type": "code",
   "execution_count": 4,
   "metadata": {
    "collapsed": true
   },
   "outputs": [],
   "source": [
    "data = data['Quote'].unique()"
   ]
  },
  {
   "cell_type": "code",
   "execution_count": 5,
   "metadata": {
    "collapsed": true
   },
   "outputs": [],
   "source": [
    "sentences = []\n",
    "\n",
    "for i in data:\n",
    "    w = nltk.word_tokenize(i)\n",
    "    w.insert(0,'STARTPAD')\n",
    "    w.append('ENDPAD')\n",
    "    sentences.append(w)\n",
    "sentences.append(['UNKNOWN']) #dealing with unknown tokens "
   ]
  },
  {
   "cell_type": "code",
   "execution_count": 6,
   "metadata": {
    "collapsed": true
   },
   "outputs": [],
   "source": [
    "model = Word2Vec(sentences, size=100, window=5, min_count=1)"
   ]
  },
  {
   "cell_type": "code",
   "execution_count": 7,
   "metadata": {
    "collapsed": true
   },
   "outputs": [],
   "source": [
    "word_vectors = model.wv"
   ]
  },
  {
   "cell_type": "code",
   "execution_count": 8,
   "metadata": {
    "collapsed": true
   },
   "outputs": [],
   "source": [
    "fname = 'wordVec.bin'\n",
    "word_vectors.save(fname)"
   ]
  }
 ],
 "metadata": {
  "kernelspec": {
   "display_name": "Python 3",
   "language": "python",
   "name": "python3"
  },
  "language_info": {
   "codemirror_mode": {
    "name": "ipython",
    "version": 3
   },
   "file_extension": ".py",
   "mimetype": "text/x-python",
   "name": "python",
   "nbconvert_exporter": "python",
   "pygments_lexer": "ipython3",
   "version": "3.5.4"
  }
 },
 "nbformat": 4,
 "nbformat_minor": 2
}
