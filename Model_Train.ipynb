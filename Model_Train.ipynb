{
 "cells": [
  {
   "cell_type": "code",
   "execution_count": null,
   "metadata": {},
   "outputs": [],
   "source": [
    "import numpy as np\n",
    "from gensim.models import KeyedVectors\n",
    "from gensim.models import Word2Vec\n",
    "import pandas as pd\n",
    "import nltk"
   ]
  },
  {
   "cell_type": "code",
   "execution_count": null,
   "metadata": {
    "collapsed": true
   },
   "outputs": [],
   "source": [
    "fname = 'wordVec.bin'\n",
    "word_vectors = KeyedVectors.load(fname)"
   ]
  },
  {
   "cell_type": "code",
   "execution_count": null,
   "metadata": {
    "collapsed": true
   },
   "outputs": [],
   "source": [
    "data = pd.read_csv('maroon5.csv')"
   ]
  },
  {
   "cell_type": "code",
   "execution_count": null,
   "metadata": {},
   "outputs": [],
   "source": [
    "data.head()"
   ]
  },
  {
   "cell_type": "code",
   "execution_count": null,
   "metadata": {
    "collapsed": true
   },
   "outputs": [],
   "source": [
    "vocab = list(word_vectors.vocab.keys())"
   ]
  },
  {
   "cell_type": "code",
   "execution_count": null,
   "metadata": {
    "collapsed": true
   },
   "outputs": [],
   "source": [
    "word_map = {}\n",
    "word_map_rev = {}\n",
    "for i,v in enumerate(vocab):\n",
    "    \n",
    "    word_map[v] = i\n",
    "    word_map_rev[i] = v"
   ]
  },
  {
   "cell_type": "code",
   "execution_count": null,
   "metadata": {
    "collapsed": true
   },
   "outputs": [],
   "source": [
    "X = []\n",
    "Y = []\n",
    "for index,row in data.iterrows():\n",
    "    i = 10\n",
    "    cur_row = nltk.word_tokenize(row['text'])\n",
    "    cur_x = cur_row[:-1]\n",
    "    cur_x.insert(0,'STARTPAD') #Shifting it ahead by 1 timestep\n",
    "    cur_y = cur_row   #1 timestep behind cur_x\n",
    "    while i<=len(cur_row):\n",
    "        \n",
    "        if i+10<len(cur_row):\n",
    "            next_x = cur_x[i-10:i+1]\n",
    "            next_y = cur_y[i-10:i+1]\n",
    "        if '.' not in next_y and '.' not in next_x :\n",
    "            X.append(next_x)\n",
    "            Y.append(next_y)\n",
    "        \n",
    "        i += 10"
   ]
  },
  {
   "cell_type": "code",
   "execution_count": null,
   "metadata": {
    "collapsed": true,
    "scrolled": false
   },
   "outputs": [],
   "source": [
    "#Convert X and Y to their word embeddings \n",
    "\n",
    "x_data = []\n",
    "y_data = []\n",
    "\n",
    "for i in range(len(X)):\n",
    "    temp_x = []\n",
    "    temp_y = []\n",
    "    \n",
    "    for j in range(len(X[i])):\n",
    "        \n",
    "        temp_x.append(word_vectors[X[i][j]])\n",
    "        temp_y.append(word_map[Y[i][j]])\n",
    "    x_data.append(np.array(temp_x))\n",
    "    y_data.append(np.array(temp_y))\n"
   ]
  },
  {
   "cell_type": "code",
   "execution_count": null,
   "metadata": {
    "collapsed": true
   },
   "outputs": [],
   "source": [
    "x_data = np.array(x_data)\n",
    "y_data = np.array(y_data)"
   ]
  },
  {
   "cell_type": "code",
   "execution_count": null,
   "metadata": {},
   "outputs": [],
   "source": [
    "from keras.utils import to_categorical\n",
    "y_data = to_categorical(y_data,num_classes = len(vocab))\n",
    "\n",
    "from sklearn.model_selection import train_test_split\n",
    "\n",
    "x_train, x_test, y_train, y_test = train_test_split(x_data, y_data, test_size=0.1)"
   ]
  },
  {
   "cell_type": "code",
   "execution_count": null,
   "metadata": {},
   "outputs": [],
   "source": [
    "print(x_train.shape,y_train.shape)\n",
    "print(x_test.shape,y_test.shape)"
   ]
  },
  {
   "cell_type": "code",
   "execution_count": null,
   "metadata": {
    "collapsed": true
   },
   "outputs": [],
   "source": [
    "#Building the model\n",
    "\n",
    "from keras.models import Sequential\n",
    "from keras.layers import Embedding, LSTM, Flatten,Dense, TimeDistributed, Dropout,Bidirectional\n",
    "from keras.layers.advanced_activations import LeakyReLU, PReLU, ELU\n",
    "\n",
    "model = Sequential()\n",
    "model.add(LSTM(units=120,return_sequences=True,dropout=0.3,recurrent_dropout=0.3,input_shape=(11,100)))\n",
    "model.add(Bidirectional(LSTM(units=100,return_sequences=True,dropout=0.3)))\n",
    "model.add(Dropout(0.25))\n",
    "model.add(TimeDistributed(Dense(len(vocab),activation='softmax')))"
   ]
  },
  {
   "cell_type": "code",
   "execution_count": null,
   "metadata": {
    "collapsed": true
   },
   "outputs": [],
   "source": [
    "model.compile(optimizer=\"adam\", loss=\"categorical_crossentropy\", metrics=[\"accuracy\"])"
   ]
  },
  {
   "cell_type": "code",
   "execution_count": null,
   "metadata": {},
   "outputs": [],
   "source": [
    "model.summary()"
   ]
  },
  {
   "cell_type": "code",
   "execution_count": null,
   "metadata": {},
   "outputs": [],
   "source": [
    "model.fit(x_train, y_train, batch_size=5, epochs=200, validation_split=0.1, verbose=1,shuffle=True)"
   ]
  },
  {
   "cell_type": "code",
   "execution_count": null,
   "metadata": {},
   "outputs": [],
   "source": [
    "model_json = model.to_json()\n",
    "with open(\"Model/model.json\", \"w\") as json_file:\n",
    "    json_file.write(model_json)\n",
    "# serialize weights to HDF5\n",
    "model.save_weights(\"Model/model.h5\")\n",
    "print(\"Saved model to disk\")"
   ]
  },
  {
   "cell_type": "code",
   "execution_count": null,
   "metadata": {},
   "outputs": [],
   "source": [
    "score,acc = model.evaluate(x_test,y_test, verbose = 2, batch_size = 15)\n",
    "print(\"score: %.2f\" % (score))\n",
    "print(\"acc: %.2f\" % (acc))"
   ]
  },
  {
   "cell_type": "code",
   "execution_count": null,
   "metadata": {
    "collapsed": true
   },
   "outputs": [],
   "source": [
    "def print_sentence(mat):\n",
    "    s = ''\n",
    "    for i in mat:\n",
    "        ind = np.argmax(i)\n",
    "        s = s + ' ' + word_map_rev[ind]\n",
    "    print(s)"
   ]
  },
  {
   "cell_type": "code",
   "execution_count": null,
   "metadata": {
    "collapsed": true
   },
   "outputs": [],
   "source": [
    "def generate():\n",
    "    words = np.random.random_sample(size=(1,11,100))\n",
    "    words[0][0] = word_vectors['Hey']\n",
    "    k = model.predict(words)\n",
    "    print_sentence(k[0])"
   ]
  },
  {
   "cell_type": "code",
   "execution_count": null,
   "metadata": {},
   "outputs": [],
   "source": [
    "generate()"
   ]
  },
  {
   "cell_type": "code",
   "execution_count": null,
   "metadata": {
    "collapsed": true
   },
   "outputs": [],
   "source": []
  }
 ],
 "metadata": {
  "kernelspec": {
   "display_name": "Python 3",
   "language": "python",
   "name": "python3"
  },
  "language_info": {
   "codemirror_mode": {
    "name": "ipython",
    "version": 3
   },
   "file_extension": ".py",
   "mimetype": "text/x-python",
   "name": "python",
   "nbconvert_exporter": "python",
   "pygments_lexer": "ipython3",
   "version": "3.5.4"
  }
 },
 "nbformat": 4,
 "nbformat_minor": 2
}
